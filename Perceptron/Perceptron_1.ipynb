{
  "cells": [
    {
      "cell_type": "markdown",
      "metadata": {
        "id": "507Rk_QQIGVx"
      },
      "source": [
        "# Modelo Perceptrón y Perceptron con Kernel"
      ]
    },
    {
      "cell_type": "markdown",
      "metadata": {
        "id": "fcJ55RJ2IGV0"
      },
      "source": [
        "___"
      ]
    },
    {
      "cell_type": "code",
      "execution_count": 8,
      "metadata": {
        "id": "8LEP0aUdIGWC"
      },
      "outputs": [],
      "source": [
        "import numpy as np\n",
        "import sklearn.model_selection as ms\n",
        "import matplotlib.pyplot as plt\n",
        "from matplotlib import cm\n",
        "%matplotlib inline\n"
      ]
    },
    {
      "cell_type": "code",
      "source": [
        "# sube el archivo que se encuentra en google colab\n",
        "import genera_datos as gd"
      ],
      "metadata": {
        "id": "Rtw-z_PiJHu6"
      },
      "execution_count": 6,
      "outputs": []
    },
    {
      "cell_type": "markdown",
      "metadata": {
        "id": "36kA_BrXIGWG"
      },
      "source": [
        "## Funciones utilitarias de graficación"
      ]
    },
    {
      "cell_type": "code",
      "execution_count": 9,
      "metadata": {
        "id": "z5_AWsbOIGWI"
      },
      "outputs": [],
      "source": [
        "def grafica(x_train,y_train,x_test,y_test):\n",
        "    \"\"\"\n",
        "    Grafica los datos de entrenamiento y prueba\n",
        "    Entrada: Datos\n",
        "    Salida: scatter plot con datos diferenciados\n",
        "    \"\"\"\n",
        "\n",
        "    \"\"\"Areas de Graficacion y visualizacion de los datos\"\"\"\n",
        "    fig,ax = plt.subplots(figsize=(6,5))\n",
        "\n",
        "    clases = np.unique(y_train).astype(int)\n",
        "\n",
        "    \"\"\"Datos negativos de entrenamiento\"\"\"\n",
        "    ax.scatter(x_train[:,0][y_train==clases[0]], x_train[:,1][y_train==clases[0]],\n",
        "               facecolor='royalblue',\n",
        "               marker='$\\\\ominus$',\n",
        "               edgecolor='royalblue',\n",
        "               s=80,\n",
        "               label='neg train')\n",
        "    \"\"\"Datos positivos de entrenamiento\"\"\"\n",
        "    ax.scatter(x_train[:,0][y_train==clases[1]], x_train[:,1][y_train==clases[1]],\n",
        "               facecolor='orangered',\n",
        "               marker='$\\\\bigoplus$',\n",
        "               edgecolor='orangered',\n",
        "               s=80,\n",
        "               label='pos train')\n",
        "\n",
        "    \"\"\"Datos de PRUEBA\"\"\"\n",
        "    xmin = np.amin(x_train[:,0])+0.05*np.amin(x_train[:,0])\n",
        "    xmax = np.amax(x_train[:,0])+0.05*np.amax(x_train[:,0])\n",
        "    ymin = np.amin(x_train[:,1])+0.05*np.amin(x_train[:,1])\n",
        "    ymax = np.amax(x_train[:,1])+0.05*np.amax(x_train[:,1])\n",
        "    ax.axis([xmin,xmax,ymin,ymax])\n",
        "\n",
        "    ax.scatter(x_test[:,0][y_test==clases[0]], x_test[:,1][y_test==clases[0]],\n",
        "               facecolor='k',\n",
        "               marker='o',\n",
        "               edgecolor='k',\n",
        "               s=45,\n",
        "               label='neg test')\n",
        "    ax.scatter(x_test[:,0][y_test==clases[1]], x_test[:,1][y_test==clases[1]],\n",
        "               facecolor='r',\n",
        "               marker='o',\n",
        "               edgecolor='k',\n",
        "               s=45,\n",
        "               label='pos test')\n",
        "    \"\"\"Parametros de la clave\"\"\"\n",
        "    legend = plt.legend(loc='upper center',\n",
        "                    bbox_to_anchor=(0.5, 1.075),\n",
        "                    ncol=4,\n",
        "                    fancybox=True,\n",
        "                    shadow=False)\n",
        "\n",
        "    return fig,ax\n",
        "\n",
        "def plot_FD(clf,show_SV=False):\n",
        "    \"\"\"\n",
        "    Calcula el contorno de una curva\n",
        "    que representa la frontera de decision de un perceptron con kernel no-lineal\n",
        "    Entrada: apuntador al modelo\n",
        "    Salida: curva de contorno (grafico)\n",
        "    \"\"\"\n",
        "    #     vectores de soporte\n",
        "    if show_SV:\n",
        "        ax.scatter(clf.sv[:,0], clf.sv[:,1],\n",
        "                   s=50,\n",
        "                   facecolor='none',\n",
        "                   edgecolor=\"g\",\n",
        "                   linewidth=3,\n",
        "                   zorder=10,\n",
        "                   label='SV_KERNEL')\n",
        "    if clf.__class__.__name__=='SVC':\n",
        "        c='green'\n",
        "        clave='SVM'\n",
        "    else:\n",
        "        c='purple'\n",
        "        clave=clf.clave\n",
        "    xmin,xmax=ax.get_xlim()\n",
        "    ymin,ymax=ax.get_ylim()\n",
        "\n",
        "    X1, X2 = np.meshgrid(np.linspace(xmin,xmax,100), np.linspace(ymin,ymax,100))\n",
        "    X = np.array([[x1, x2] for x1, x2 in zip(np.ravel(X1), np.ravel(X2))])\n",
        "    Z = clf.decision_function(X)\n",
        "    Z = Z.reshape(X1.shape)\n",
        "    CS=ax.contour(X1, X2, Z, 0,\n",
        "                  colors=c,\n",
        "                  linestyles='dashed',\n",
        "                  linewidths=3,\n",
        "                  origin='lower')\n",
        "    ax.contourf(X1, X2, Z,alpha=0.2,levels=0,cmap=cm.jet)\n",
        "    ax.xaxis.grid(False)\n",
        "    ax.yaxis.grid(False)\n",
        "    CS.collections[0].set_label(clave)\n",
        "    \"\"\"Parametros de la clave\"\"\"\n",
        "    legend = plt.legend(loc='upper center',\n",
        "                        bbox_to_anchor=(0.5, 1.15),\n",
        "                        ncol=4,\n",
        "                        fancybox=True,\n",
        "                        shadow=False)\n",
        "\n",
        "    frame = legend.get_frame()\n",
        "    frame.set_facecolor('white')\n",
        "    frame.set_alpha(1)\n",
        "    fig.tight_layout()\n",
        "\n",
        "    return"
      ]
    },
    {
      "cell_type": "markdown",
      "metadata": {
        "id": "AZP_8LdSIGWN"
      },
      "source": [
        "## Generador de datos sintéticos"
      ]
    },
    {
      "cell_type": "code",
      "execution_count": 14,
      "metadata": {
        "id": "TBbUAwQuIGWP"
      },
      "outputs": [],
      "source": [
        "def toy_data(tipo='ls',n=2,s=100,prop=80):\n",
        "    if tipo=='ls':\n",
        "        L = gd.datos_lin_separables(samples=s)\n",
        "    else:\n",
        "        L = gd.datos_solapados(samples=s)\n",
        "\n",
        "    #Listas de datos y clases\n",
        "    X = []\n",
        "    y = []\n",
        "    for i in range(len(L)):\n",
        "        X.append(L[i][:,:-1])\n",
        "        y.append(L[i][:,-1].astype(int))\n",
        "\n",
        "    \"\"\"Separa los datos en entrenamiento y prueba\"\"\"\n",
        "    #80% de datos para entrenar\n",
        "    x_train,x_test,y_train,y_test = gd.split_train_test(X,y,prop)\n",
        "\n",
        "    \"\"\"Centra los datos\"\"\"\n",
        "    x_train = gd.centra_datos(x_train)\n",
        "    x_test = gd.centra_datos(x_test)\n",
        "\n",
        "    clases = np.arange(n,dtype='int')\n",
        "    clases[0] =- 1\n",
        "\n",
        "    return x_train,x_test,y_train,y_test,clases"
      ]
    },
    {
      "cell_type": "markdown",
      "metadata": {
        "id": "uQKM2ggvIGWQ"
      },
      "source": [
        "# Modelo Perceptron:"
      ]
    },
    {
      "cell_type": "markdown",
      "source": [
        "Realizaremos nuestra propia implementación. Scikit-learn tiene una implementación de este modelo https://scikit-learn.org/stable/modules/generated/sklearn.linear_model.Perceptron.html."
      ],
      "metadata": {
        "id": "2PGU_-1MBPRe"
      }
    },
    {
      "cell_type": "code",
      "execution_count": 3,
      "metadata": {
        "id": "xL3CVZjUIGWS"
      },
      "outputs": [],
      "source": [
        "from sklearn.metrics import accuracy_score, recall_score, precision_score\n",
        "\n",
        "class Perceptron(object):\n",
        "    \"\"\"\n",
        "    Clasificador Perceptron\n",
        "    \"\"\"\n",
        "\n",
        "    def __init__(self, epocas=1, eta=1.):\n",
        "        self.epocas = epocas    #epocas: 1 por defecto\n",
        "        self.eta = eta  #tasa de aprendizaje: 1 por defecto\n",
        "\n",
        "    def fit(self, X, y,show_error=False):\n",
        "        \"\"\"\n",
        "        Funcion de aprendizaje\n",
        "        Entrada: datos de entrenamiento X,y en coordenadas homogeneas\n",
        "        Calcula: W, los pesos del modelo, y el Error de aprendizaje\n",
        "        show_error: Mostrar la función de perdida a través de las épocas (0-1 loss)\n",
        "        \"\"\"\n",
        "        n_samples, d_features = X.shape                 #matriz de datos\n",
        "        self.W = np.zeros(d_features, dtype=np.float64) #vector de pesos en cero\n",
        "        self.W_history=[]\n",
        "        errors = []\n",
        "\n",
        "        for e in range(self.epocas):\n",
        "            total_error = 0\n",
        "            for i in range(n_samples):\n",
        "                if self.predict(X[i])*y[i] <= 0:\n",
        "                    self.W_history.append(self.W)\n",
        "                    self.W += y[i] * self.eta * X[i]\n",
        "                    total_error += self.predict(X[i])*y[i]\n",
        "            errors.append(total_error)\n",
        "        if show_error:\n",
        "            xticks = np.arange(self.epocas)\n",
        "            plt.xticks(xticks,[str(x) for x in xticks])\n",
        "            plt.plot(errors,label='Perceptron')\n",
        "            plt.xlabel('Epoca')\n",
        "            plt.ylabel('Error total')\n",
        "            plt.legend()\n",
        "\n",
        "\n",
        "    def predict(self, X):\n",
        "        \"\"\"\n",
        "        Funcion que determina el signo de la proyeccion\n",
        "        Entrada: arreglo numpy de datos X\n",
        "        Salida:  arreglo numpy con valores +1 o -1\n",
        "        \"\"\"\n",
        "        return np.sign(X@self.W).astype(int)\n",
        "\n",
        "    def metricas(self, y_test, y_predicted):\n",
        "        \"\"\"\n",
        "        Funcion de evaluacion del rendimiento\n",
        "        Entrada: arreglos numpy con datos de prueba y prediccion\n",
        "        Salida: exactitud, precision y recall\n",
        "        \"\"\"\n",
        "        accuracy = 100*accuracy_score(y_test,y_predicted)\n",
        "        precision = 100*precision_score(y_test,y_predicted)\n",
        "        recall = 100*recall_score(y_test,y_predicted)\n",
        "        return accuracy, precision, recall\n",
        "\n",
        "    def f(self,x,c=0):\n",
        "        \"\"\"\n",
        "        dados x y w, regresa y tal que [x,y] esta sobre la linea\n",
        "        w.x + b = c\n",
        "        w es el vector ortogonal a la recta\n",
        "        \"\"\"\n",
        "        v = (-self.W[1:][0] * x - self.W[0] + c) / self.W[1:][1]\n",
        "        return v\n",
        "\n",
        "\n",
        "    def plot_FD(self,ax):\n",
        "        \"\"\"\n",
        "        Calcula los puntos de la linea recta\n",
        "        que representa la frontera de decision de un perceptron lineal\n",
        "        Entrada: datos de las dos clases X1 y X2\n",
        "        Salida: dos puntos extremos de la frontera de decision\n",
        "        \"\"\"\n",
        "        xmin,xmax = ax.get_xlim()\n",
        "        ymin,ymax = ax.get_ylim()\n",
        "\n",
        "        a0 = xmin\n",
        "        a1 = self.f(a0)\n",
        "\n",
        "        b0 = xmax\n",
        "        b1 = self.f(b0)\n",
        "\n",
        "        x=[a0,b0]\n",
        "        y=[a1,b1]\n",
        "        ymin,ymax=plt.ylim()\n",
        "        ax.axis([x[0],x[1],ymin,ymax])\n",
        "        ax.plot(x, y, \"k\", label='Perceptron')\n",
        "        ax.xaxis.grid(False)\n",
        "        ax.yaxis.grid(False)\n",
        "        legend = plt.legend(loc='upper center',\n",
        "                    bbox_to_anchor=(0.5, 1.15),\n",
        "                    ncol=4,\n",
        "                    fancybox=True,\n",
        "                    shadow=False)\n",
        "\n",
        "        frame = legend.get_frame()\n",
        "        frame.set_facecolor('white')\n",
        "        frame.set_alpha(1)\n",
        "        return ax\n"
      ]
    },
    {
      "cell_type": "markdown",
      "metadata": {
        "id": "6ITYARMdIGWU"
      },
      "source": [
        "## Prueba del Perceptrón"
      ]
    },
    {
      "cell_type": "code",
      "execution_count": 43,
      "metadata": {
        "id": "sDHeC4AdIGWV"
      },
      "outputs": [],
      "source": [
        "from sklearn import preprocessing\n",
        "\n",
        "#Datos\n",
        "x_train,x_test,y_train,y_test,clases = toy_data(tipo='ls',s=100)\n",
        "\n",
        "features = preprocessing.PolynomialFeatures(1)\n",
        "X_train = features.fit_transform(x_train)\n",
        "X_test = features.fit_transform(x_test)"
      ]
    },
    {
      "cell_type": "code",
      "execution_count": 44,
      "metadata": {
        "colab": {
          "base_uri": "https://localhost:8080/",
          "height": 999
        },
        "id": "Lnd_i8VrIGWW",
        "outputId": "1b771dbe-ee4c-4644-9e52-328b77ce81d0"
      },
      "outputs": [
        {
          "output_type": "stream",
          "name": "stdout",
          "text": [
            "PERCEPTRON:\n",
            "Exactitud   100.0%\n",
            "Precision   100.0%\n",
            "Recall      100.0%\n"
          ]
        },
        {
          "output_type": "display_data",
          "data": {
            "text/plain": [
              "<Figure size 640x480 with 1 Axes>"
            ],
            "image/png": "[encoded data removed]"
          },
          "metadata": {}
        },
        {
          "output_type": "display_data",
          "data": {
            "text/plain": [
              "<Figure size 600x500 with 1 Axes>"
            ],
            "image/png": "[encoded data removed]"
          },
          "metadata": {}
        }
      ],
      "source": [
        "#Declara el modelo\n",
        "clf = Perceptron(epocas=17)\n",
        "\n",
        "#entrenamiento\n",
        "clf.fit(X_train, y_train,show_error=True)\n",
        "\n",
        "#Prueba y métricas\n",
        "y_p = clf.predict(X_test)\n",
        "\n",
        "ex,pr,rec = clf.metricas(y_test,y_p)\n",
        "print('PERCEPTRON:')\n",
        "print(\"Exactitud   \" + str(ex) + \"%\")\n",
        "print(\"Precision   \" + str(pr) + \"%\")\n",
        "print(\"Recall      \" + str(rec) + \"%\")\n",
        "\n",
        "#frontera de decision\n",
        "fig,ax = grafica(x_train,y_train,x_test,y_test)\n",
        "clf.plot_FD(ax)\n",
        "fig.show()"
      ]
    },
    {
      "cell_type": "markdown",
      "metadata": {
        "id": "2XwhUFtfIGWZ"
      },
      "source": [
        "## Perceptron con Kernel"
      ]
    },
    {
      "cell_type": "markdown",
      "metadata": {
        "id": "bVWBxIWTIGWa"
      },
      "source": [
        "&#9998; **Implementa el modelo del Perceptrón DUAL, incluyendo 2 tipos de kernel adicionales al kernel lineal. Se te proporciona una clase Base con un kernel lineal como ejemplo**"
      ]
    },
    {
      "cell_type": "code",
      "execution_count": null,
      "metadata": {
        "id": "iMVqh42LIGWb"
      },
      "outputs": [],
      "source": [
        "class PerceptronKernel():\n",
        "    \"\"\"\n",
        "    Perceptron con Kernel básico\n",
        "    \"\"\"\n",
        "    def __init__(self, kernel='lk',**params):\n",
        "        self.epocas=1\n",
        "        if kernel == 'lk':\n",
        "            self.__kernel=self.__lk\n",
        "            self.clave = 'K-Lineal'\n",
        "        elif kernel == 'gk':\n",
        "            self.__kernel=self.__gk\n",
        "            self.clave = 'K-Gauss'\n",
        "        else:\n",
        "            self.__kernel=self.__pk\n",
        "            self.clave = 'K-Poli'\n",
        "        if params:\n",
        "            for p in params.keys():\n",
        "                if p=='epocas':\n",
        "                    self.epocas = params[p]\n",
        "                    continue\n",
        "                if p=='gamma':\n",
        "                    self.gamma=params[p]\n",
        "\n",
        "    def __lk(self,Xi,Xj):\n",
        "        return Xi@Xj\n",
        "\n",
        "    def __pk(self,Xi,Xj):\n",
        "        ...\n",
        "\n",
        "    def __gk(self,Xi, Xj):\n",
        "        ...\n",
        "\n",
        "    @property\n",
        "    def kernel(self):\n",
        "        return self.__kernel\n",
        "\n",
        "    @kernel.setter\n",
        "    def kernel(self,*args):\n",
        "        try:\n",
        "            l=args[0]\n",
        "            ok=True\n",
        "            if isinstance(l,str):\n",
        "                kernel=l\n",
        "            else:\n",
        "                kernel=l[0]\n",
        "                try:\n",
        "                    parametro=l[1]\n",
        "                except IndexError:\n",
        "                    print(\"ERROR: Debes pasar también un parámetro-> gamma > 0\")\n",
        "                    ok=False\n",
        "        except IndexError:\n",
        "            print(\"ERROR: Debes pasar al menos un argumento con la etiqueta del kernel: {lk,gk,pk}\")\n",
        "            ok=False\n",
        "        if ok:\n",
        "            if kernel == 'lk':\n",
        "                self.__kernel=self.__lk\n",
        "                self.clave = 'K-Lineal'          #para la leyenda de la imagen\n",
        "            elif kernel == 'gk':\n",
        "                self.gamma = parametro       #gamma del kernel gaussiano\n",
        "                self.__kernel=self.__gk\n",
        "                self.clave = 'K-Gauss'\n",
        "            else:\n",
        "                self.gamma = parametro       #gamma del kernel gaussiano\n",
        "                self.__kernel=self.__pk\n",
        "                self.clave = 'K-Poli'\n",
        "        return\n",
        "\n",
        "    def fit(self, X, y):\n",
        "        \"\"\"\n",
        "        Funcion de aprendizaje\n",
        "        In: X, matriz de instancias de aprendizaje\n",
        "            y, matriz de clases\n",
        "        Out: alpha vector de pesos de instancias de aprendizaje\n",
        "        \"\"\"\n",
        "        n_samples, n_features = X.shape\n",
        "        self.alpha = np.zeros(n_samples, dtype=np.float64)\n",
        "\n",
        "        clases = np.unique(y).astype(int)\n",
        "        if clases[0]==0:\n",
        "            y_temp=y[:]\n",
        "            y_temp[y==0]=-1\n",
        "            self.__y=y_temp[:]\n",
        "            y_temp=[]\n",
        "        else:\n",
        "            self.__y=y[:]\n",
        "\n",
        "        # Gram matrix\n",
        "        K = np.zeros((n_samples, n_samples))\n",
        "        for i in range(n_samples):\n",
        "            for j in range(n_samples):\n",
        "                K[i,j] = self.kernel(X[i], X[j])\n",
        "\n",
        "        # Entrenamiento\n",
        "        for epoca in range(self.epocas):\n",
        "            for i in range(n_samples):\n",
        "                if self.__y[i]*np.sign(np.sum(K[i,:] * self.alpha * self.__y))<=0:\n",
        "                    self.alpha[i] += 1.0\n",
        "\n",
        "        # Support vectors\n",
        "        sv = self.alpha > 1e-5\n",
        "        ind = np.arange(len(self.alpha))[sv]\n",
        "        self.alpha = self.alpha[sv]\n",
        "        self.sv = X[sv]\n",
        "        self.sv_y = self.__y[sv]\n",
        "        print(\"{0} vectores de soporte de {1} puntos\".format(len(self.alpha),n_samples))\n",
        "\n",
        "    def decision_function(self, X):\n",
        "        y_predict = np.zeros(len(X))\n",
        "        for i in range(len(X)):\n",
        "            s = 0\n",
        "            for a, sv_y, sv in zip(self.alpha, self.sv_y, self.sv):\n",
        "                s += a * sv_y * self.__kernel(X[i], sv)\n",
        "            y_predict[i] = s\n",
        "        return y_predict\n",
        "\n",
        "    def predict(self, X):\n",
        "        return np.sign(self.decision_function(X))\n",
        "\n",
        "\n",
        "    def metricas(self, y_test, y_predicted):\n",
        "        \"\"\"\n",
        "        Funcion de evaluacion del rendimiento\n",
        "        Entrada: arreglos numpy con datos de prueba y prediccion\n",
        "        Salida: exactitud, precision y recall\n",
        "        \"\"\"\n",
        "        #r contiene los indices donde la prediccion y los valores reales coinciden\n",
        "        r = np.where(y_predicted==y_test)\n",
        "        acc = y_test[r]\n",
        "\n",
        "        y_p = np.where(y_predicted>0)\n",
        "        pos = np.where(y_test>0)\n",
        "\n",
        "        FP = set(list(y_p[0])).symmetric_difference(set(list(pos[0])))\n",
        "        TP = set(list(pos[0]))-FP\n",
        "        TP_FP = TP.union(FP)\n",
        "\n",
        "        #exactitud, precision y sensibilidad\n",
        "        accuracy= len(acc)/len(y_test)*100\n",
        "        precision = len(list(TP))/len(list(TP_FP))*100\n",
        "        recall = len(list(TP))/len(pos[0])*100\n",
        "\n",
        "        return accuracy, precision, recall"
      ]
    },
    {
      "cell_type": "markdown",
      "metadata": {
        "id": "Dejc0SisIGWd"
      },
      "source": [
        "## Prueba de Perceptrón con Kernel"
      ]
    },
    {
      "cell_type": "markdown",
      "metadata": {
        "id": "RJsbz8DkIGWe"
      },
      "source": [
        "Perceptron para fines comparativos"
      ]
    },
    {
      "cell_type": "code",
      "execution_count": null,
      "metadata": {
        "id": "kNfDhlYQIGWf"
      },
      "outputs": [],
      "source": [
        "from sklearn import preprocessing\n",
        "\n",
        "\"\"\"----------DATOS----------\"\"\"\n",
        "x_train,x_test,y_train,y_test,clases=toy_data(tipo='ls',s=100)\n",
        "\n",
        "\"\"\"FEATURES (PERCEPTRON)\"\"\"\n",
        "scaler = preprocessing.StandardScaler()\n",
        "x_train=scaler.fit_transform(x_train)\n",
        "x_test =scaler.fit_transform(x_test)\n",
        "\n",
        "features = preprocessing.PolynomialFeatures(1)\n",
        "X_train=features.fit_transform(x_train)\n",
        "X_test=features.fit_transform(x_test)\n",
        "\n",
        "\"\"\"MODELO PERCEPTRON\"\"\"\n",
        "perceptron = Perceptron(epocas=30)\n",
        "perceptron.fit(X_train, y_train)\n",
        "y_p=perceptron.predict(X_test)\n",
        "\n",
        "ex,pr,rec = perceptron.metricas(y_test,y_p)\n",
        "print('MÉTRICAS PERCEPTRON:')\n",
        "print(\"Exactitud   \" + str(ex) + \"%\")\n",
        "print(\"Precision   \" + str(pr) + \"%\")\n",
        "print(\"Recall      \" + str(rec) + \"%\")"
      ]
    },
    {
      "cell_type": "markdown",
      "metadata": {
        "id": "IYGqb2u4IGWi"
      },
      "source": [
        "&#9998; **Prueba el modelo del Perceptrón con kernel usando un Kernel Lineal, Polinomial y Gaussiano. Prueba con varios parámetros.**"
      ]
    },
    {
      "cell_type": "code",
      "execution_count": null,
      "metadata": {
        "id": "aDFgbUzpIGWi"
      },
      "outputs": [],
      "source": [
        "\"\"\"PERCEPTRON CON KERNEL\"\"\"\n",
        "X_train=x_train[:]\n",
        "X_test=x_test[:]\n",
        "\n",
        "perceptronK = PerceptronKernel(kernel='gk',gamma=3)\n",
        "\n",
        "perceptronK.fit(X_train, y_train)\n",
        "\n",
        "\"\"\"TEST\"\"\"\n",
        "y_p=perceptronK.predict(X_test)\n",
        "\n",
        "ex,pr,rec = perceptronK.metricas(y_test,y_p)\n",
        "print('MÉTRICAS PERCEPTRON CON KERNEL:')\n",
        "print(\"Exactitud   \" + str(ex) + \"%\")\n",
        "print(\"Precision   \" + str(pr) + \"%\")\n",
        "print(\"Recall      \" + str(rec) + \"%\")\n",
        "\n",
        "\"\"\"FD's\"\"\"\n",
        "fig,ax=grafica(x_train,y_train,x_test,y_test)\n",
        "\n",
        "perceptron.plot_FD(ax)\n",
        "plot_FD(perceptronK,show_SV=False)"
      ]
    }
  ],
  "metadata": {
    "kernelspec": {
      "display_name": "Python 3",
      "language": "python",
      "name": "python3"
    },
    "language_info": {
      "codemirror_mode": {
        "name": "ipython",
        "version": 3
      },
      "file_extension": ".py",
      "mimetype": "text/x-python",
      "name": "python",
      "nbconvert_exporter": "python",
      "pygments_lexer": "ipython3",
      "version": "3.7.4"
    },
    "colab": {
      "provenance": []
    }
  },
  "nbformat": 4,
  "nbformat_minor": 0
}